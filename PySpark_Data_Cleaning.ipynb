{
 "cells": [
  {
   "cell_type": "code",
   "execution_count": 0,
   "metadata": {
    "application/vnd.databricks.v1+cell": {
     "cellMetadata": {
      "byteLimit": 2048000,
      "rowLimit": 10000
     },
     "inputWidgets": {},
     "nuid": "08aa17cb-80bf-4a3e-9c88-c3a0f51d477f",
     "showTitle": false,
     "title": ""
    }
   },
   "outputs": [],
   "source": [
    "from pyspark.sql.types import *\n",
    "import pyspark.sql.functions as F"
   ]
  },
  {
   "cell_type": "code",
   "execution_count": 0,
   "metadata": {
    "application/vnd.databricks.v1+cell": {
     "cellMetadata": {
      "byteLimit": 2048000,
      "rowLimit": 10000
     },
     "inputWidgets": {},
     "nuid": "78361073-fc60-4cee-ac20-cf6e2001f30a",
     "showTitle": false,
     "title": ""
    }
   },
   "outputs": [
    {
     "output_type": "display_data",
     "data": {
      "text/html": [
       "<style scoped>\n",
       "  .table-result-container {\n",
       "    max-height: 300px;\n",
       "    overflow: auto;\n",
       "  }\n",
       "  table, th, td {\n",
       "    border: 1px solid black;\n",
       "    border-collapse: collapse;\n",
       "  }\n",
       "  th, td {\n",
       "    padding: 5px;\n",
       "  }\n",
       "  th {\n",
       "    text-align: left;\n",
       "  }\n",
       "</style><div class='table-result-container'><table class='table-result'><thead style='background-color: white'><tr><th>path</th><th>name</th><th>size</th><th>modificationTime</th></tr></thead><tbody><tr><td>dbfs:/FileStore/tables/Sales_April_2019-1.csv</td><td>Sales_April_2019-1.csv</td><td>1595953</td><td>1720537125000</td></tr><tr><td>dbfs:/FileStore/tables/Sales_April_2019.csv</td><td>Sales_April_2019.csv</td><td>1595953</td><td>1720536860000</td></tr><tr><td>dbfs:/FileStore/tables/Sales_August_2019-1.csv</td><td>Sales_August_2019-1.csv</td><td>1043593</td><td>1720537125000</td></tr><tr><td>dbfs:/FileStore/tables/Sales_August_2019.csv</td><td>Sales_August_2019.csv</td><td>1043593</td><td>1720536860000</td></tr><tr><td>dbfs:/FileStore/tables/Sales_December_2019-1.csv</td><td>Sales_December_2019-1.csv</td><td>2181642</td><td>1720537126000</td></tr><tr><td>dbfs:/FileStore/tables/Sales_December_2019.csv</td><td>Sales_December_2019.csv</td><td>2181642</td><td>1720536861000</td></tr><tr><td>dbfs:/FileStore/tables/Sales_February_2019-1.csv</td><td>Sales_February_2019-1.csv</td><td>1046495</td><td>1720537126000</td></tr><tr><td>dbfs:/FileStore/tables/Sales_February_2019.csv</td><td>Sales_February_2019.csv</td><td>1046495</td><td>1720536861000</td></tr><tr><td>dbfs:/FileStore/tables/Sales_January_2019-1.csv</td><td>Sales_January_2019-1.csv</td><td>843098</td><td>1720537127000</td></tr><tr><td>dbfs:/FileStore/tables/Sales_January_2019.csv</td><td>Sales_January_2019.csv</td><td>843098</td><td>1720536862000</td></tr><tr><td>dbfs:/FileStore/tables/Sales_July_2019-1.csv</td><td>Sales_July_2019-1.csv</td><td>1248753</td><td>1720537127000</td></tr><tr><td>dbfs:/FileStore/tables/Sales_July_2019.csv</td><td>Sales_July_2019.csv</td><td>1248753</td><td>1720536862000</td></tr><tr><td>dbfs:/FileStore/tables/Sales_June_2019-1.csv</td><td>Sales_June_2019-1.csv</td><td>1182508</td><td>1720537128000</td></tr><tr><td>dbfs:/FileStore/tables/Sales_June_2019.csv</td><td>Sales_June_2019.csv</td><td>1182508</td><td>1720536863000</td></tr><tr><td>dbfs:/FileStore/tables/Sales_March_2019-1.csv</td><td>Sales_March_2019-1.csv</td><td>1323497</td><td>1720537128000</td></tr><tr><td>dbfs:/FileStore/tables/Sales_March_2019.csv</td><td>Sales_March_2019.csv</td><td>1323497</td><td>1720536863000</td></tr><tr><td>dbfs:/FileStore/tables/Sales_May_2019-1.csv</td><td>Sales_May_2019-1.csv</td><td>1443965</td><td>1720537129000</td></tr><tr><td>dbfs:/FileStore/tables/Sales_May_2019.csv</td><td>Sales_May_2019.csv</td><td>1443965</td><td>1720536863000</td></tr><tr><td>dbfs:/FileStore/tables/Sales_November_2019-1.csv</td><td>Sales_November_2019-1.csv</td><td>1534677</td><td>1720537129000</td></tr><tr><td>dbfs:/FileStore/tables/Sales_November_2019.csv</td><td>Sales_November_2019.csv</td><td>1534677</td><td>1720536864000</td></tr><tr><td>dbfs:/FileStore/tables/Sales_October_2019-1.csv</td><td>Sales_October_2019-1.csv</td><td>1770338</td><td>1720537130000</td></tr><tr><td>dbfs:/FileStore/tables/Sales_October_2019.csv</td><td>Sales_October_2019.csv</td><td>1770338</td><td>1720536864000</td></tr><tr><td>dbfs:/FileStore/tables/Sales_September_2019-1.csv</td><td>Sales_September_2019-1.csv</td><td>1014958</td><td>1720537130000</td></tr><tr><td>dbfs:/FileStore/tables/Sales_September_2019.csv</td><td>Sales_September_2019.csv</td><td>1014958</td><td>1720536865000</td></tr></tbody></table></div>"
      ]
     },
     "metadata": {
      "application/vnd.databricks.v1+output": {
       "addedWidgets": {},
       "aggData": [],
       "aggError": "",
       "aggOverflow": false,
       "aggSchema": [],
       "aggSeriesLimitReached": false,
       "aggType": "",
       "arguments": {},
       "columnCustomDisplayInfos": {},
       "data": [
        [
         "dbfs:/FileStore/tables/Sales_April_2019-1.csv",
         "Sales_April_2019-1.csv",
         1595953,
         1720537125000
        ],
        [
         "dbfs:/FileStore/tables/Sales_April_2019.csv",
         "Sales_April_2019.csv",
         1595953,
         1720536860000
        ],
        [
         "dbfs:/FileStore/tables/Sales_August_2019-1.csv",
         "Sales_August_2019-1.csv",
         1043593,
         1720537125000
        ],
        [
         "dbfs:/FileStore/tables/Sales_August_2019.csv",
         "Sales_August_2019.csv",
         1043593,
         1720536860000
        ],
        [
         "dbfs:/FileStore/tables/Sales_December_2019-1.csv",
         "Sales_December_2019-1.csv",
         2181642,
         1720537126000
        ],
        [
         "dbfs:/FileStore/tables/Sales_December_2019.csv",
         "Sales_December_2019.csv",
         2181642,
         1720536861000
        ],
        [
         "dbfs:/FileStore/tables/Sales_February_2019-1.csv",
         "Sales_February_2019-1.csv",
         1046495,
         1720537126000
        ],
        [
         "dbfs:/FileStore/tables/Sales_February_2019.csv",
         "Sales_February_2019.csv",
         1046495,
         1720536861000
        ],
        [
         "dbfs:/FileStore/tables/Sales_January_2019-1.csv",
         "Sales_January_2019-1.csv",
         843098,
         1720537127000
        ],
        [
         "dbfs:/FileStore/tables/Sales_January_2019.csv",
         "Sales_January_2019.csv",
         843098,
         1720536862000
        ],
        [
         "dbfs:/FileStore/tables/Sales_July_2019-1.csv",
         "Sales_July_2019-1.csv",
         1248753,
         1720537127000
        ],
        [
         "dbfs:/FileStore/tables/Sales_July_2019.csv",
         "Sales_July_2019.csv",
         1248753,
         1720536862000
        ],
        [
         "dbfs:/FileStore/tables/Sales_June_2019-1.csv",
         "Sales_June_2019-1.csv",
         1182508,
         1720537128000
        ],
        [
         "dbfs:/FileStore/tables/Sales_June_2019.csv",
         "Sales_June_2019.csv",
         1182508,
         1720536863000
        ],
        [
         "dbfs:/FileStore/tables/Sales_March_2019-1.csv",
         "Sales_March_2019-1.csv",
         1323497,
         1720537128000
        ],
        [
         "dbfs:/FileStore/tables/Sales_March_2019.csv",
         "Sales_March_2019.csv",
         1323497,
         1720536863000
        ],
        [
         "dbfs:/FileStore/tables/Sales_May_2019-1.csv",
         "Sales_May_2019-1.csv",
         1443965,
         1720537129000
        ],
        [
         "dbfs:/FileStore/tables/Sales_May_2019.csv",
         "Sales_May_2019.csv",
         1443965,
         1720536863000
        ],
        [
         "dbfs:/FileStore/tables/Sales_November_2019-1.csv",
         "Sales_November_2019-1.csv",
         1534677,
         1720537129000
        ],
        [
         "dbfs:/FileStore/tables/Sales_November_2019.csv",
         "Sales_November_2019.csv",
         1534677,
         1720536864000
        ],
        [
         "dbfs:/FileStore/tables/Sales_October_2019-1.csv",
         "Sales_October_2019-1.csv",
         1770338,
         1720537130000
        ],
        [
         "dbfs:/FileStore/tables/Sales_October_2019.csv",
         "Sales_October_2019.csv",
         1770338,
         1720536864000
        ],
        [
         "dbfs:/FileStore/tables/Sales_September_2019-1.csv",
         "Sales_September_2019-1.csv",
         1014958,
         1720537130000
        ],
        [
         "dbfs:/FileStore/tables/Sales_September_2019.csv",
         "Sales_September_2019.csv",
         1014958,
         1720536865000
        ]
       ],
       "datasetInfos": [],
       "dbfsResultPath": null,
       "isJsonSchema": true,
       "metadata": {},
       "overflow": false,
       "plotOptions": {
        "customPlotOptions": {},
        "displayType": "table",
        "pivotAggregation": null,
        "pivotColumns": null,
        "xColumns": null,
        "yColumns": null
       },
       "removedWidgets": [],
       "schema": [
        {
         "metadata": "{}",
         "name": "path",
         "type": "\"string\""
        },
        {
         "metadata": "{}",
         "name": "name",
         "type": "\"string\""
        },
        {
         "metadata": "{}",
         "name": "size",
         "type": "\"long\""
        },
        {
         "metadata": "{}",
         "name": "modificationTime",
         "type": "\"long\""
        }
       ],
       "type": "table"
      }
     },
     "output_type": "display_data"
    }
   ],
   "source": [
    "display(dbutils.fs.ls('dbfs:/FileStore/tables/'))"
   ]
  },
  {
   "cell_type": "code",
   "execution_count": 0,
   "metadata": {
    "application/vnd.databricks.v1+cell": {
     "cellMetadata": {
      "byteLimit": 2048000,
      "rowLimit": 10000
     },
     "inputWidgets": {},
     "nuid": "6b33333a-7dbb-4a05-bc82-5932c74e349d",
     "showTitle": false,
     "title": ""
    }
   },
   "outputs": [],
   "source": [
    "jan_df = spark.read.csv(\"/FileStore/tables/Sales_January_2019.csv\", header=True)"
   ]
  },
  {
   "cell_type": "code",
   "execution_count": 0,
   "metadata": {
    "application/vnd.databricks.v1+cell": {
     "cellMetadata": {
      "byteLimit": 2048000,
      "rowLimit": 10000
     },
     "inputWidgets": {},
     "nuid": "75f1e2d4-cae6-44e8-8e89-526cc9f14515",
     "showTitle": true,
     "title": "Merge 12 months data"
    }
   },
   "outputs": [],
   "source": [
    "# Merge 12 months data\n",
    "sales_ori_df = spark.read.csv(\"/FileStore/tables/Sales_January_2019.csv\", header=True)\n",
    "month_list = ['February', 'March', 'April', 'May', 'June', 'July', 'August', 'September', 'October', 'November', 'December']\n",
    "for month in month_list: \n",
    "    sales_ori_df = sales_ori_df.union(spark.read.csv(f\"/FileStore/tables/Sales_{month}_2019.csv\", header=True))\n"
   ]
  },
  {
   "cell_type": "code",
   "execution_count": 0,
   "metadata": {
    "application/vnd.databricks.v1+cell": {
     "cellMetadata": {
      "byteLimit": 2048000,
      "rowLimit": 10000
     },
     "inputWidgets": {},
     "nuid": "ab861b70-afc9-46f9-bc3f-ea53fb70e7ea",
     "showTitle": false,
     "title": ""
    }
   },
   "outputs": [
    {
     "output_type": "stream",
     "name": "stdout",
     "output_type": "stream",
     "text": [
      "root\n |-- Order ID: string (nullable = true)\n |-- Product: string (nullable = true)\n |-- Quantity Ordered: string (nullable = true)\n |-- Price Each: string (nullable = true)\n |-- Order Date: string (nullable = true)\n |-- Purchase Address: string (nullable = true)\n\n"
     ]
    }
   ],
   "source": [
    "sales_ori_df.printSchema()"
   ]
  },
  {
   "cell_type": "markdown",
   "metadata": {
    "application/vnd.databricks.v1+cell": {
     "cellMetadata": {
      "byteLimit": 2048000,
      "rowLimit": 10000
     },
     "inputWidgets": {},
     "nuid": "e0e89120-ec36-4cc2-9070-e11407f904ee",
     "showTitle": false,
     "title": ""
    }
   },
   "source": [
    "First convert data types, notice Order Date is in string type. We have to convert it into DateType. \n",
    "Check if there's any null values before conversion. "
   ]
  },
  {
   "cell_type": "markdown",
   "metadata": {
    "application/vnd.databricks.v1+cell": {
     "cellMetadata": {
      "byteLimit": 2048000,
      "rowLimit": 10000
     },
     "inputWidgets": {},
     "nuid": "8dae7ec0-78e5-49ca-bdd3-8848aaaa78ae",
     "showTitle": false,
     "title": ""
    }
   },
   "source": [
    "The steps below are to use regex to strip off time `hh:ss` and then converting to date. These are just to experiment with RegEx. \n",
    "A quicker alternative would be to directly converting it to DateType in `mm-dd-yy hh:ss` and then extracting the relevant date components if needed in further processing "
   ]
  },
  {
   "cell_type": "code",
   "execution_count": 0,
   "metadata": {
    "application/vnd.databricks.v1+cell": {
     "cellMetadata": {
      "byteLimit": 2048000,
      "rowLimit": 10000
     },
     "inputWidgets": {},
     "nuid": "81428c85-0ee7-4caf-894d-c9b0f8130dc9",
     "showTitle": false,
     "title": ""
    }
   },
   "outputs": [],
   "source": [
    "sales_df = sales_ori_df.withColumnRenamed(\"Order Date\", \"Order Date Timestamp\")"
   ]
  },
  {
   "cell_type": "code",
   "execution_count": 0,
   "metadata": {
    "application/vnd.databricks.v1+cell": {
     "cellMetadata": {
      "byteLimit": 2048000,
      "rowLimit": 10000
     },
     "inputWidgets": {},
     "nuid": "d2fa1b3e-5c3c-477d-b3ba-508c60f1851e",
     "showTitle": false,
     "title": ""
    }
   },
   "outputs": [
    {
     "output_type": "stream",
     "name": "stdout",
     "output_type": "stream",
     "text": [
      "+--------+-------+----------------+----------+--------------------+----------------+\n|Order ID|Product|Quantity Ordered|Price Each|Order Date Timestamp|Purchase Address|\n+--------+-------+----------------+----------+--------------------+----------------+\n|    null|   null|            null|      null|                null|            null|\n|    null|   null|            null|      null|                null|            null|\n|    null|   null|            null|      null|                null|            null|\n|    null|   null|            null|      null|                null|            null|\n|    null|   null|            null|      null|                null|            null|\n|    null|   null|            null|      null|                null|            null|\n|    null|   null|            null|      null|                null|            null|\n|    null|   null|            null|      null|                null|            null|\n|    null|   null|            null|      null|                null|            null|\n|    null|   null|            null|      null|                null|            null|\n|    null|   null|            null|      null|                null|            null|\n|    null|   null|            null|      null|                null|            null|\n|    null|   null|            null|      null|                null|            null|\n|    null|   null|            null|      null|                null|            null|\n|    null|   null|            null|      null|                null|            null|\n|    null|   null|            null|      null|                null|            null|\n|    null|   null|            null|      null|                null|            null|\n|    null|   null|            null|      null|                null|            null|\n|    null|   null|            null|      null|                null|            null|\n|    null|   null|            null|      null|                null|            null|\n+--------+-------+----------------+----------+--------------------+----------------+\nonly showing top 20 rows\n\n"
     ]
    }
   ],
   "source": [
    "# check if there's any null values \n",
    "sales_df.where(F.col(\"Order Date Timestamp\").isNull()).show()"
   ]
  },
  {
   "cell_type": "code",
   "execution_count": 0,
   "metadata": {
    "application/vnd.databricks.v1+cell": {
     "cellMetadata": {
      "byteLimit": 2048000,
      "rowLimit": 10000
     },
     "inputWidgets": {},
     "nuid": "d763ca7a-4d1b-4185-b3ea-3f5210ef1896",
     "showTitle": false,
     "title": ""
    }
   },
   "outputs": [
    {
     "output_type": "stream",
     "name": "stdout",
     "output_type": "stream",
     "text": [
      "+--------+-------+----------------+----------+--------------------+----------------+\n|Order ID|Product|Quantity Ordered|Price Each|Order Date Timestamp|Purchase Address|\n+--------+-------+----------------+----------+--------------------+----------------+\n+--------+-------+----------------+----------+--------------------+----------------+\n\n"
     ]
    }
   ],
   "source": [
    "sales_df.filter(sales_df[\"Order Date Timestamp\"].isNull() & sales_df[\"Order ID\"].isNotNull()).show()"
   ]
  },
  {
   "cell_type": "code",
   "execution_count": 0,
   "metadata": {
    "application/vnd.databricks.v1+cell": {
     "cellMetadata": {
      "byteLimit": 2048000,
      "rowLimit": 10000
     },
     "inputWidgets": {},
     "nuid": "25cc7a67-495c-436c-9d87-f70a20a27263",
     "showTitle": false,
     "title": ""
    }
   },
   "outputs": [],
   "source": [
    "# Looks like if Order Date Timestamp is null, the order ID is also null, we can safely drop na rows  \n",
    "sales_df = sales_df.na.drop()"
   ]
  },
  {
   "cell_type": "code",
   "execution_count": 0,
   "metadata": {
    "application/vnd.databricks.v1+cell": {
     "cellMetadata": {
      "byteLimit": 2048000,
      "rowLimit": 10000
     },
     "inputWidgets": {},
     "nuid": "71a82c5c-67b6-443e-8a61-ac035cd54cd9",
     "showTitle": false,
     "title": ""
    }
   },
   "outputs": [
    {
     "output_type": "stream",
     "name": "stdout",
     "output_type": "stream",
     "text": [
      "+--------+-------+----------------+----------+--------------------+----------------+\n|Order ID|Product|Quantity Ordered|Price Each|Order Date Timestamp|Purchase Address|\n+--------+-------+----------------+----------+--------------------+----------------+\n+--------+-------+----------------+----------+--------------------+----------------+\n\n"
     ]
    }
   ],
   "source": [
    "sales_df.where(F.col(\"Order Date Timestamp\").isNull()).show()"
   ]
  },
  {
   "cell_type": "code",
   "execution_count": 0,
   "metadata": {
    "application/vnd.databricks.v1+cell": {
     "cellMetadata": {
      "byteLimit": 2048000,
      "rowLimit": 10000
     },
     "inputWidgets": {},
     "nuid": "a4c09c6e-c690-455c-ae74-38718cc961f4",
     "showTitle": false,
     "title": ""
    }
   },
   "outputs": [
    {
     "output_type": "stream",
     "name": "stdout",
     "output_type": "stream",
     "text": [
      "+--------------------+\n|Order Date Timestamp|\n+--------------------+\n|          Order Date|\n+--------------------+\n\n"
     ]
    }
   ],
   "source": [
    "# Check if there's any Order Date not matching date pattern \n",
    "\n",
    "sales_df_odd = sales_df.filter(~F.col(\"Order Date Timestamp\").rlike('\\d{2}/\\d{2}/\\d{2}\\s\\d{2}:\\d{2}'))\n",
    "sales_df_odd.select(\"Order Date Timestamp\").distinct().show()\n"
   ]
  },
  {
   "cell_type": "code",
   "execution_count": 0,
   "metadata": {
    "application/vnd.databricks.v1+cell": {
     "cellMetadata": {
      "byteLimit": 2048000,
      "rowLimit": 10000
     },
     "inputWidgets": {},
     "nuid": "ac7cf530-1494-4485-888a-ebfa74393db3",
     "showTitle": false,
     "title": ""
    }
   },
   "outputs": [
    {
     "output_type": "stream",
     "name": "stdout",
     "output_type": "stream",
     "text": [
      "+--------+-------+----------------+----------+--------------------+----------------+\n|Order ID|Product|Quantity Ordered|Price Each|Order Date Timestamp|Purchase Address|\n+--------+-------+----------------+----------+--------------------+----------------+\n|Order ID|Product|Quantity Ordered|Price Each|          Order Date|Purchase Address|\n+--------+-------+----------------+----------+--------------------+----------------+\n\n"
     ]
    }
   ],
   "source": [
    "sales_df_odd.distinct().show()"
   ]
  },
  {
   "cell_type": "markdown",
   "metadata": {
    "application/vnd.databricks.v1+cell": {
     "cellMetadata": {
      "byteLimit": 2048000,
      "rowLimit": 10000
     },
     "inputWidgets": {},
     "nuid": "c795d049-e93c-4fbb-9c1e-5bdaf206ac02",
     "showTitle": false,
     "title": ""
    }
   },
   "source": [
    "There's only one pattern where the Order Date Timestamp doesn't match the timedate pattern. We can safely remove these rows. "
   ]
  },
  {
   "cell_type": "code",
   "execution_count": 0,
   "metadata": {
    "application/vnd.databricks.v1+cell": {
     "cellMetadata": {
      "byteLimit": 2048000,
      "rowLimit": 10000
     },
     "inputWidgets": {},
     "nuid": "1277fd6e-8b44-4ce9-a40e-6f51dc2b8aaa",
     "showTitle": false,
     "title": ""
    }
   },
   "outputs": [],
   "source": [
    "sales_df = sales_df.filter(F.col(\"Order Date Timestamp\").rlike('\\d{2}/\\d{2}/\\d{2}\\s\\d{2}:\\d{2}'))"
   ]
  },
  {
   "cell_type": "code",
   "execution_count": 0,
   "metadata": {
    "application/vnd.databricks.v1+cell": {
     "cellMetadata": {
      "byteLimit": 2048000,
      "rowLimit": 10000
     },
     "inputWidgets": {},
     "nuid": "4d231d15-f666-4014-8798-8a54605165d2",
     "showTitle": false,
     "title": ""
    }
   },
   "outputs": [],
   "source": [
    "sales_df = sales_df.withColumn(\"Order Date\", F.regexp_extract(sales_df['Order Date Timestamp'], r'(\\d{2}/\\d{2}/\\d{2})\\s\\d{2}:\\d{2}', 1))"
   ]
  },
  {
   "cell_type": "code",
   "execution_count": 0,
   "metadata": {
    "application/vnd.databricks.v1+cell": {
     "cellMetadata": {
      "byteLimit": 2048000,
      "rowLimit": 10000
     },
     "inputWidgets": {},
     "nuid": "1f009e29-cee0-4ffb-b458-4273db88067e",
     "showTitle": false,
     "title": ""
    }
   },
   "outputs": [
    {
     "output_type": "stream",
     "name": "stdout",
     "output_type": "stream",
     "text": [
      "+--------+--------------------+----------------+----------+--------------------+--------------------+----------+\n|Order ID|             Product|Quantity Ordered|Price Each|Order Date Timestamp|    Purchase Address|Order Date|\n+--------+--------------------+----------------+----------+--------------------+--------------------+----------+\n|  141234|              iPhone|               1|       700|      01/22/19 21:25|944 Walnut St, Bo...|  01/22/19|\n|  141235|Lightning Chargin...|               1|     14.95|      01/28/19 14:15|185 Maple St, Por...|  01/28/19|\n|  141236|    Wired Headphones|               2|     11.99|      01/17/19 13:33|538 Adams St, San...|  01/17/19|\n|  141237|    27in FHD Monitor|               1|    149.99|      01/05/19 20:33|738 10th St, Los ...|  01/05/19|\n|  141238|    Wired Headphones|               1|     11.99|      01/25/19 11:59|387 10th St, Aust...|  01/25/19|\n+--------+--------------------+----------------+----------+--------------------+--------------------+----------+\nonly showing top 5 rows\n\n"
     ]
    }
   ],
   "source": [
    "sales_df.show(5)"
   ]
  },
  {
   "cell_type": "code",
   "execution_count": 0,
   "metadata": {
    "application/vnd.databricks.v1+cell": {
     "cellMetadata": {
      "byteLimit": 2048000,
      "rowLimit": 10000
     },
     "inputWidgets": {},
     "nuid": "818e3fa5-2b62-4372-b0f6-7129d148bbee",
     "showTitle": false,
     "title": ""
    }
   },
   "outputs": [
    {
     "output_type": "stream",
     "name": "stdout",
     "output_type": "stream",
     "text": [
      "+--------+--------------------+----------------+----------+--------------------+--------------------+----------+\n|Order ID|             Product|Quantity Ordered|Price Each|Order Date Timestamp|    Purchase Address|Order Date|\n+--------+--------------------+----------------+----------+--------------------+--------------------+----------+\n|  141234|              iPhone|               1|       700|      01/22/19 21:25|944 Walnut St, Bo...|2019-01-22|\n|  141235|Lightning Chargin...|               1|     14.95|      01/28/19 14:15|185 Maple St, Por...|2019-01-28|\n|  141236|    Wired Headphones|               2|     11.99|      01/17/19 13:33|538 Adams St, San...|2019-01-17|\n|  141237|    27in FHD Monitor|               1|    149.99|      01/05/19 20:33|738 10th St, Los ...|2019-01-05|\n|  141238|    Wired Headphones|               1|     11.99|      01/25/19 11:59|387 10th St, Aust...|2019-01-25|\n+--------+--------------------+----------------+----------+--------------------+--------------------+----------+\nonly showing top 5 rows\n\n"
     ]
    }
   ],
   "source": [
    "sales_df = sales_df.withColumn(\n",
    "    \"Order Date\",\n",
    "    F.when(F.col(\"Order Date\").rlike(\"\\d{2}/\\d{2}/\\d{2}\"), F.to_date(\"Order Date\", \"MM/dd/yy\"))\n",
    "     .otherwise(None)\n",
    ")\n",
    "sales_df.show(5)"
   ]
  },
  {
   "cell_type": "code",
   "execution_count": 0,
   "metadata": {
    "application/vnd.databricks.v1+cell": {
     "cellMetadata": {
      "byteLimit": 2048000,
      "rowLimit": 10000
     },
     "inputWidgets": {},
     "nuid": "5f6208e8-b142-4df5-90bd-b0ee5a090b07",
     "showTitle": false,
     "title": ""
    }
   },
   "outputs": [],
   "source": [
    "# convert Quantity Ordered to integer, and Price Each to double\n",
    "sales_df = sales_df.withColumn('Quantity Ordered', sales_df['Quantity Ordered'].cast(IntegerType()))\\\n",
    "                .withColumn('Price Each', sales_df['Price Each'].cast(DoubleType()))"
   ]
  },
  {
   "cell_type": "code",
   "execution_count": 0,
   "metadata": {
    "application/vnd.databricks.v1+cell": {
     "cellMetadata": {
      "byteLimit": 2048000,
      "rowLimit": 10000
     },
     "inputWidgets": {},
     "nuid": "e4fb172c-fb1f-4634-8c28-038cca2a1f11",
     "showTitle": false,
     "title": ""
    }
   },
   "outputs": [
    {
     "output_type": "stream",
     "name": "stdout",
     "output_type": "stream",
     "text": [
      "root\n |-- Order ID: string (nullable = true)\n |-- Product: string (nullable = true)\n |-- Quantity Ordered: integer (nullable = true)\n |-- Price Each: double (nullable = true)\n |-- Order Date Timestamp: string (nullable = true)\n |-- Purchase Address: string (nullable = true)\n |-- Order Date: date (nullable = true)\n\n"
     ]
    }
   ],
   "source": [
    "sales_df.printSchema()"
   ]
  },
  {
   "cell_type": "code",
   "execution_count": 0,
   "metadata": {
    "application/vnd.databricks.v1+cell": {
     "cellMetadata": {
      "byteLimit": 2048000,
      "rowLimit": 10000
     },
     "inputWidgets": {},
     "nuid": "7104cbb1-1a58-470a-8039-46fc464c0ec9",
     "showTitle": false,
     "title": ""
    }
   },
   "outputs": [],
   "source": [
    "sales_df = sales_df.withColumn(\"Month\", F.month(\"Order Date\"))"
   ]
  },
  {
   "cell_type": "code",
   "execution_count": 0,
   "metadata": {
    "application/vnd.databricks.v1+cell": {
     "cellMetadata": {
      "byteLimit": 2048000,
      "rowLimit": 10000
     },
     "inputWidgets": {},
     "nuid": "8d4caccf-1aad-4b56-a6c4-f03ab239da54",
     "showTitle": false,
     "title": ""
    }
   },
   "outputs": [
    {
     "output_type": "stream",
     "name": "stdout",
     "output_type": "stream",
     "text": [
      "+--------+--------------------+----------------+----------+--------------------+--------------------+----------+-----+\n|Order ID|             Product|Quantity Ordered|Price Each|Order Date Timestamp|    Purchase Address|Order Date|Month|\n+--------+--------------------+----------------+----------+--------------------+--------------------+----------+-----+\n|  141234|              iPhone|               1|     700.0|      01/22/19 21:25|944 Walnut St, Bo...|2019-01-22|    1|\n|  141235|Lightning Chargin...|               1|     14.95|      01/28/19 14:15|185 Maple St, Por...|2019-01-28|    1|\n|  141236|    Wired Headphones|               2|     11.99|      01/17/19 13:33|538 Adams St, San...|2019-01-17|    1|\n|  141237|    27in FHD Monitor|               1|    149.99|      01/05/19 20:33|738 10th St, Los ...|2019-01-05|    1|\n|  141238|    Wired Headphones|               1|     11.99|      01/25/19 11:59|387 10th St, Aust...|2019-01-25|    1|\n+--------+--------------------+----------------+----------+--------------------+--------------------+----------+-----+\nonly showing top 5 rows\n\n"
     ]
    }
   ],
   "source": [
    "sales_df.show(5)"
   ]
  },
  {
   "cell_type": "code",
   "execution_count": 0,
   "metadata": {
    "application/vnd.databricks.v1+cell": {
     "cellMetadata": {
      "byteLimit": 2048000,
      "rowLimit": 10000
     },
     "inputWidgets": {},
     "nuid": "728bb761-ae91-4a59-9a46-28a80a223c8f",
     "showTitle": false,
     "title": ""
    }
   },
   "outputs": [
    {
     "output_type": "stream",
     "name": "stdout",
     "output_type": "stream",
     "text": [
      "+-----+\n|Month|\n+-----+\n|    1|\n|    2|\n|    3|\n|    4|\n|    5|\n|    6|\n|    7|\n|    8|\n|    9|\n|   10|\n|   11|\n|   12|\n+-----+\n\n"
     ]
    }
   ],
   "source": [
    "sales_df.select(\"Month\").distinct().show()"
   ]
  },
  {
   "cell_type": "code",
   "execution_count": 0,
   "metadata": {
    "application/vnd.databricks.v1+cell": {
     "cellMetadata": {
      "byteLimit": 2048000,
      "rowLimit": 10000
     },
     "inputWidgets": {},
     "nuid": "fe45ebd9-2a3a-44f9-b365-46563bcaa3ee",
     "showTitle": false,
     "title": ""
    },
    "jupyter": {
     "outputs_hidden": true
    }
   },
   "outputs": [
    {
     "output_type": "stream",
     "name": "stdout",
     "output_type": "stream",
     "text": [
      "root\n |-- Order ID: string (nullable = true)\n |-- Product: string (nullable = true)\n |-- Quantity Ordered: integer (nullable = true)\n |-- Price Each: double (nullable = true)\n |-- Order Date Timestamp: string (nullable = true)\n |-- Purchase Address: string (nullable = true)\n |-- Order Date: date (nullable = true)\n |-- Month: integer (nullable = true)\n\n"
     ]
    }
   ],
   "source": [
    "sales_df.printSchema()"
   ]
  },
  {
   "cell_type": "markdown",
   "metadata": {
    "application/vnd.databricks.v1+cell": {
     "cellMetadata": {
      "byteLimit": 2048000,
      "rowLimit": 10000
     },
     "inputWidgets": {},
     "nuid": "e697dcef-4865-4cad-a01d-404fbc9ffa59",
     "showTitle": false,
     "title": ""
    }
   },
   "source": [
    "We'll plot the amount of sales against month."
   ]
  },
  {
   "cell_type": "code",
   "execution_count": 0,
   "metadata": {
    "application/vnd.databricks.v1+cell": {
     "cellMetadata": {
      "byteLimit": 2048000,
      "rowLimit": 10000
     },
     "inputWidgets": {},
     "nuid": "4453d184-3b9d-4b30-8f9b-a671bbf84eb8",
     "showTitle": false,
     "title": ""
    }
   },
   "outputs": [
    {
     "output_type": "stream",
     "name": "stdout",
     "output_type": "stream",
     "text": [
      "+--------+--------------------+----------------+----------+--------------------+--------------------+----------+-----+------------+\n|Order ID|             Product|Quantity Ordered|Price Each|Order Date Timestamp|    Purchase Address|Order Date|Month|Sales Amount|\n+--------+--------------------+----------------+----------+--------------------+--------------------+----------+-----+------------+\n|  141234|              iPhone|               1|     700.0|      01/22/19 21:25|944 Walnut St, Bo...|2019-01-22|    1|       700.0|\n|  141235|Lightning Chargin...|               1|     14.95|      01/28/19 14:15|185 Maple St, Por...|2019-01-28|    1|       14.95|\n|  141236|    Wired Headphones|               2|     11.99|      01/17/19 13:33|538 Adams St, San...|2019-01-17|    1|       23.98|\n|  141237|    27in FHD Monitor|               1|    149.99|      01/05/19 20:33|738 10th St, Los ...|2019-01-05|    1|      149.99|\n|  141238|    Wired Headphones|               1|     11.99|      01/25/19 11:59|387 10th St, Aust...|2019-01-25|    1|       11.99|\n+--------+--------------------+----------------+----------+--------------------+--------------------+----------+-----+------------+\nonly showing top 5 rows\n\n"
     ]
    }
   ],
   "source": [
    "sales_df = sales_df.withColumn(\"Sales Amount\", F.col(\"Quantity Ordered\")*F.col(\"Price Each\"))\n",
    "sales_df.show(5)"
   ]
  },
  {
   "cell_type": "code",
   "execution_count": 0,
   "metadata": {
    "application/vnd.databricks.v1+cell": {
     "cellMetadata": {
      "byteLimit": 2048000,
      "rowLimit": 10000
     },
     "inputWidgets": {},
     "nuid": "54e003ed-1d0e-471d-912d-3bb1220a7b52",
     "showTitle": false,
     "title": ""
    }
   },
   "outputs": [
    {
     "output_type": "stream",
     "name": "stdout",
     "output_type": "stream",
     "text": [
      "+--------+-------+----------------+----------+--------------------+----------------+----------+-----+------------+\n|Order ID|Product|Quantity Ordered|Price Each|Order Date Timestamp|Purchase Address|Order Date|Month|Sales Amount|\n+--------+-------+----------------+----------+--------------------+----------------+----------+-----+------------+\n+--------+-------+----------------+----------+--------------------+----------------+----------+-----+------------+\n\n"
     ]
    }
   ],
   "source": [
    "non_double_rows = sales_df.filter(F.col(\"Sales Amount\").cast(\"double\").isNull())\n",
    "non_double_rows.show(5)"
   ]
  },
  {
   "cell_type": "code",
   "execution_count": 0,
   "metadata": {
    "application/vnd.databricks.v1+cell": {
     "cellMetadata": {
      "byteLimit": 2048000,
      "rowLimit": 10000
     },
     "inputWidgets": {},
     "nuid": "0b4c99c9-c728-416b-b3df-54c00ee15921",
     "showTitle": false,
     "title": ""
    }
   },
   "outputs": [
    {
     "output_type": "stream",
     "name": "stdout",
     "output_type": "stream",
     "text": [
      "+-----+------------------+\n|Month|     Monthly Sales|\n+-----+------------------+\n|    1|1822256.7299999138|\n|    2| 2202022.419999963|\n|    3|2807100.3800003603|\n|    4|3390670.2400007015|\n|    5| 3152606.750000546|\n|    6|2577802.2600001753|\n|    7|2647775.7600002354|\n|    8| 2244467.879999992|\n|    9| 2097560.129999891|\n|   10|3736726.8800009675|\n|   11|3199603.2000005865|\n|   12|  4613443.34000153|\n+-----+------------------+\n\n"
     ]
    }
   ],
   "source": [
    "sales_month_df = sales_df.select(\"Month\", \"Sales Amount\").groupBy(\"Month\").agg(F.sum(\"Sales Amount\").alias(\"Monthly Sales\"))\n",
    "#.groupBy(\"Month\").agg(sum(\"Sales Amount\"))\n",
    "sales_month_df.show()"
   ]
  },
  {
   "cell_type": "code",
   "execution_count": 0,
   "metadata": {
    "application/vnd.databricks.v1+cell": {
     "cellMetadata": {
      "byteLimit": 2048000,
      "rowLimit": 10000
     },
     "inputWidgets": {},
     "nuid": "0dce1105-dceb-4f16-9df5-b43141f8449b",
     "showTitle": false,
     "title": ""
    }
   },
   "outputs": [
    {
     "output_type": "display_data",
     "data": {
      "application/vnd.databricks.v1+bamboolib_hint": "{\"pd.DataFrames\": [], \"version\": \"0.0.1\"}",
      "text/plain": []
     },
     "metadata": {},
     "output_type": "display_data"
    },
    {
     "output_type": "stream",
     "name": "stdout",
     "output_type": "stream",
     "text": [
      "<class 'pandas.core.frame.DataFrame'>\n"
     ]
    }
   ],
   "source": [
    "import pandas as pd\n",
    "import datetime\n",
    "import matplotlib.pyplot as plt\n",
    "\n",
    "df = sales_month_df.toPandas()\n",
    "\n",
    "df['Month'] = df['Month'].apply(lambda x: datetime.datetime.strptime(str(x), \"%m\").strftime(\"%B\"))\n",
    "\n",
    "print(type(df))\n",
    "plt.figure(figsize=(24, 8))\n",
    "\n",
    "df.plot('Month', 'Monthly Sales',kind='bar', legend=False)\n",
    "\n",
    "plt.xticks(rotation=45)\n",
    "\n",
    "plt.ylabel('Monthly Sales in USD($)')\n",
    "\n",
    "plt.title('Sales Amount by Month')\n",
    "\n",
    "plt.show()\n"
   ]
  }
 ],
 "metadata": {
  "application/vnd.databricks.v1+notebook": {
   "dashboards": [],
   "environmentMetadata": null,
   "language": "python",
   "notebookMetadata": {
    "pythonIndentUnit": 4
   },
   "notebookName": "PySpark_Data_Cleaning",
   "widgets": {}
  }
 },
 "nbformat": 4,
 "nbformat_minor": 0
}
